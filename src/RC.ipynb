{
 "cells": [
  {
   "cell_type": "code",
   "execution_count": 12,
   "metadata": {},
   "outputs": [
    {
     "name": "stdout",
     "output_type": "stream",
     "text": [
      "按下 Ctrl-C 可停止程式\n",
      "count=10005, time=0.07\n",
      "count=9992, time=0.07\n",
      "count=9903, time=0.07\n",
      "count=9795, time=0.07\n",
      "count=9912, time=0.07\n",
      "count=9773, time=0.07\n",
      "count=9799, time=0.07\n",
      "count=9830, time=0.07\n",
      "count=9863, time=0.07\n",
      "count=9857, time=0.07\n",
      "count=9917, time=0.07\n",
      "count=9863, time=0.07\n",
      "count=9876, time=0.07\n",
      "count=9820, time=0.07\n",
      "count=9873, time=0.07\n",
      "count=9815, time=0.07\n",
      "count=9807, time=0.07\n",
      "count=9845, time=0.07\n",
      "count=9906, time=0.07\n",
      "count=9866, time=0.07\n",
      "count=9823, time=0.07\n",
      "count=9850, time=0.07\n",
      "count=9817, time=0.07\n",
      "count=9771, time=0.07\n",
      "count=9854, time=0.07\n",
      "count=9891, time=0.07\n",
      "count=9764, time=0.07\n",
      "count=9896, time=0.07\n",
      "count=9867, time=0.07\n",
      "count=9837, time=0.07\n",
      "count=9877, time=0.07\n",
      "count=9900, time=0.07\n",
      "count=9846, time=0.07\n",
      "count=9827, time=0.07\n",
      "count=9845, time=0.07\n",
      "count=9843, time=0.07\n",
      "count=9795, time=0.07\n",
      "count=9868, time=0.07\n",
      "count=9843, time=0.07\n",
      "count=9877, time=0.07\n",
      "count=9799, time=0.07\n",
      "count=9862, time=0.07\n",
      "count=9778, time=0.07\n",
      "count=9817, time=0.07\n",
      "count=9849, time=0.07\n",
      "count=9916, time=0.07\n",
      "count=9776, time=0.07\n",
      "count=9885, time=0.07\n",
      "count=9807, time=0.07\n",
      "count=9845, time=0.07\n",
      "count=9825, time=0.07\n",
      "count=9819, time=0.07\n",
      "count=9831, time=0.07\n",
      "count=9753, time=0.07\n",
      "count=9905, time=0.07\n",
      "count=11036, time=0.07\n",
      "count=11006, time=0.07\n",
      "count=11024, time=0.07\n",
      "count=11230, time=0.08\n",
      "count=13558, time=0.09\n",
      "count=16818, time=0.12\n",
      "count=25360, time=0.17\n",
      "count=25426, time=0.17\n",
      "count=25481, time=0.17\n",
      "count=25278, time=0.17\n",
      "count=24195, time=0.17\n",
      "count=25349, time=0.17\n",
      "count=25422, time=0.17\n",
      "count=24269, time=0.17\n",
      "count=24195, time=0.17\n",
      "count=24304, time=0.17\n",
      "count=25093, time=0.17\n",
      "count=11040, time=0.07\n",
      "count=9864, time=0.07\n",
      "count=9846, time=0.07\n",
      "count=9815, time=0.07\n",
      "count=9859, time=0.07\n",
      "count=9808, time=0.07\n",
      "count=9792, time=0.07\n",
      "count=9820, time=0.07\n",
      "count=9820, time=0.07\n",
      "count=9895, time=0.07\n",
      "count=9843, time=0.07\n",
      "關閉程式\n"
     ]
    }
   ],
   "source": [
    "import RPi.GPIO as GPIO\n",
    "import time\n",
    "\n",
    "MONITOR_PIN = 4\n",
    "\n",
    "GPIO.setmode(GPIO.BCM)\n",
    "\n",
    "try:\n",
    "    print('按下 Ctrl-C 可停止程式')\n",
    "    while True:\n",
    "        GPIO.setup(MONITOR_PIN, GPIO.OUT)\n",
    "        GPIO.output(MONITOR_PIN, GPIO.LOW)\n",
    "        time.sleep(0.1)\n",
    "\n",
    "        count = 0\n",
    "        start_time = time.time()\n",
    "        GPIO.setup(MONITOR_PIN, GPIO.IN)\n",
    "        while (GPIO.input(MONITOR_PIN) == GPIO.LOW):\n",
    "            count += 1\n",
    "        end_time = time.time()\n",
    "\n",
    "        print('count={}, time={:.02f}'.format(count, end_time-start_time))\n",
    "except KeyboardInterrupt:\n",
    "    print('關閉程式')\n",
    "finally:\n",
    "    GPIO.cleanup()"
   ]
  },
  {
   "cell_type": "markdown",
   "metadata": {},
   "source": [
    "### [RASPBERRY PI 3 MODEL B 利用光敏電阻進行測光](https://blog.everlearn.tw/%E7%95%B6-python-%E9%81%87%E4%B8%8A-raspberry-pi/raspberry-pi-3-model-b-%E5%88%A9%E7%94%A8%E5%85%89%E6%95%8F%E9%9B%BB%E9%98%BB%E9%80%B2%E8%A1%8C%E6%B8%AC%E5%85%89)\n",
    "### [如何利用 RASPBERRY PI 3 MODEL 3 量測 RC 電路量之電阻值](https://blog.everlearn.tw/%E7%95%B6-python-%E9%81%87%E4%B8%8A-raspberry-pi/%E5%A6%82%E4%BD%95%E5%88%A9%E7%94%A8-raspberry-pi-3-model-3-%E9%87%8F%E6%B8%AC-rc-%E9%9B%BB%E8%B7%AF%E9%87%8F%E4%B9%8B%E9%9B%BB%E9%98%BB%E5%80%BC)\n",
    "![RC電路]( rc_circuit_架構圖.png)\n",
    "![RC](Series_RC_capacitor_voltage.svg)\n",
    " $τ=R×C=1K×1μ=(1×10^3)×(1×10^-6)=10^-3$"
   ]
  },
  {
   "cell_type": "markdown",
   "metadata": {},
   "source": [
    "![RPi RC]( photocell_rc_bb.png)"
   ]
  },
  {
   "cell_type": "code",
   "execution_count": 51,
   "metadata": {},
   "outputs": [
    {
     "name": "stdout",
     "output_type": "stream",
     "text": [
      "按下 Ctrl-C 可停止程式\n",
      "開始充電\n",
      "時間=0.015125751495361328秒\n",
      "開始充電\n",
      "時間=0.015103816986083984秒\n",
      "開始充電\n",
      "時間=0.015044212341308594秒\n",
      "開始充電\n",
      "時間=0.015050888061523438秒\n",
      "開始充電\n",
      "時間=0.014870166778564453秒\n",
      "開始充電\n",
      "時間=0.015074014663696289秒\n",
      "開始充電\n",
      "時間=0.015007734298706055秒\n",
      "開始充電\n",
      "時間=0.01517629623413086秒\n",
      "開始充電\n",
      "時間=0.015031576156616211秒\n",
      "開始充電\n",
      "時間=1.0514886379241943秒\n",
      "開始充電\n",
      "時間=1.081918478012085秒\n",
      "開始充電\n",
      "時間=1.1738183498382568秒\n",
      "開始充電\n",
      "時間=1.2166802883148193秒\n",
      "開始充電\n",
      "時間=1.2323932647705078秒\n",
      "開始充電\n",
      "時間=0.08994770050048828秒\n",
      "開始充電\n",
      "時間=0.049657344818115234秒\n",
      "開始充電\n",
      "時間=0.0509645938873291秒\n",
      "開始充電\n",
      "時間=0.04842066764831543秒\n",
      "開始充電\n",
      "時間=0.051177024841308594秒\n",
      "關閉程式\n"
     ]
    }
   ],
   "source": [
    "'''\n",
    "數位電路通常用高電位表示 1，而且有所謂的 VIH，只要超過這個數值的電位差，就會被當作高電位，也就是 1\n",
    "\n",
    "假設 Raspberry Pi 3 Model B 的 VIH 也是 1.3V。\n",
    "\n",
    "'''\n",
    "import RPi.GPIO as GPIO\n",
    "import time\n",
    "\n",
    "PIN = 4\n",
    "\n",
    "GPIO.setmode(GPIO.BCM)\n",
    "tt = []\n",
    "try:\n",
    "    print('按下 Ctrl-C 可停止程式')\n",
    "    while True:\n",
    "        GPIO.setup(PIN, GPIO.OUT)\n",
    "        GPIO.output(PIN, GPIO.LOW)\n",
    "        time.sleep(1)\n",
    "        print(\"開始充電\")\n",
    "        start_time = time.time()\n",
    "        GPIO.setup(PIN, GPIO.IN)\n",
    "        while (GPIO.input(PIN) != GPIO.HIGH):\n",
    "            next\n",
    "        end_time = time.time()\n",
    "        tt.append(end_time-start_time)\n",
    "        print('時間={}秒'.format(end_time-start_time))\n",
    "except KeyboardInterrupt:\n",
    "    print('關閉程式')\n",
    "finally:\n",
    "    GPIO.cleanup()"
   ]
  },
  {
   "cell_type": "code",
   "execution_count": 52,
   "metadata": {},
   "outputs": [
    {
     "name": "stdout",
     "output_type": "stream",
     "text": [
      "3.299999999986485\n"
     ]
    },
    {
     "data": {
      "image/png": "[encoded data removed]",
      "text/plain": [
       "<Figure size 432x288 with 1 Axes>"
      ]
     },
     "metadata": {
      "needs_background": "light"
     },
     "output_type": "display_data"
    }
   ],
   "source": [
    "%matplotlib inline\n",
    "import numpy as np\n",
    "import math\n",
    "import matplotlib.pyplot as plt\n",
    "\n",
    "def charge(t,tao):\n",
    "    return np.float(3.3 * (1-math.exp(-t/tao)))\n",
    "\n",
    "R=1.0*math.pow(10,3)\n",
    "C = 47 * pow(10,-6)\n",
    "\n",
    "Tao = R * C\n",
    "n = len(tt)\n",
    "y = np.array([charge(x,Tao) for x in tt])\n",
    "#plt.plot(y)\n",
    "plt.plot(tt)\n",
    "print(max(y))"
   ]
  },
  {
   "cell_type": "code",
   "execution_count": 53,
   "metadata": {},
   "outputs": [
    {
     "name": "stdout",
     "output_type": "stream",
     "text": [
      "0.047\n",
      "0.06\n",
      "2.379348103035094\n"
     ]
    }
   ],
   "source": [
    "import math\n",
    "\n",
    "def charge(t,tao):\n",
    "    vout = 3.3 * (1-math.exp(-t/tao))\n",
    "    return vout\n",
    "\n",
    "R=1.0*math.pow(10,3)\n",
    "C = 47 * pow(10,-6)\n",
    "\n",
    "Tao = R * C\n",
    "print(Tao)\n",
    "Vih = 1.3\n",
    "#t = -0.1 * math.log(1-1.3/3.3)\n",
    "t = 0.06\n",
    "print(t)\n",
    "print(charge(t,Tao))"
   ]
  },
  {
   "cell_type": "code",
   "execution_count": 54,
   "metadata": {},
   "outputs": [
    {
     "name": "stdout",
     "output_type": "stream",
     "text": [
      "按下 Ctrl-C 可停止程式\n",
      "count=7676, time=0.05\n",
      "count=7716, time=0.05\n",
      "count=7772, time=0.05\n",
      "count=7542, time=0.05\n",
      "count=7476, time=0.05\n",
      "count=7507, time=0.05\n",
      "count=7545, time=0.05\n",
      "count=7460, time=0.05\n",
      "count=7473, time=0.05\n",
      "count=7578, time=0.05\n",
      "count=7525, time=0.05\n",
      "count=7559, time=0.05\n",
      "count=7566, time=0.05\n",
      "count=7564, time=0.05\n",
      "count=7515, time=0.05\n",
      "count=7567, time=0.05\n",
      "count=7597, time=0.05\n",
      "count=7693, time=0.05\n",
      "count=7597, time=0.05\n",
      "count=7662, time=0.05\n",
      "count=8344, time=0.05\n",
      "count=9010, time=0.06\n",
      "count=9113, time=0.06\n",
      "count=13457, time=0.09\n",
      "count=18668, time=0.13\n",
      "count=111867, time=0.74\n",
      "count=182321, time=1.20\n",
      "count=184499, time=1.22\n",
      "count=188654, time=1.24\n",
      "count=190868, time=1.26\n",
      "count=191985, time=1.26\n",
      "count=194697, time=1.28\n",
      "count=196205, time=1.29\n",
      "count=150172, time=0.99\n",
      "count=16227, time=0.11\n",
      "count=10837, time=0.07\n",
      "count=8747, time=0.06\n",
      "count=7915, time=0.05\n",
      "count=7714, time=0.05\n",
      "count=7615, time=0.05\n",
      "count=7579, time=0.05\n",
      "關閉程式\n"
     ]
    }
   ],
   "source": [
    "import RPi.GPIO as GPIO\n",
    "import time\n",
    "\n",
    "MONITOR_PIN = 4\n",
    "\n",
    "GPIO.setmode(GPIO.BCM)\n",
    "cnt=[]\n",
    "try:\n",
    "    print('按下 Ctrl-C 可停止程式')\n",
    "    while True:\n",
    "        GPIO.setup(MONITOR_PIN, GPIO.OUT)\n",
    "        GPIO.output(MONITOR_PIN, GPIO.LOW)\n",
    "        time.sleep(0.1)\n",
    "\n",
    "        count = 0\n",
    "        start_time = time.time()\n",
    "        GPIO.setup(MONITOR_PIN, GPIO.IN)\n",
    "        while (GPIO.input(MONITOR_PIN) == GPIO.LOW):\n",
    "            count += 1\n",
    "        end_time = time.time()\n",
    "        cnt.append(count)\n",
    "        print('count={}, time={:.02f}'.format(count, end_time-start_time))\n",
    "except KeyboardInterrupt:\n",
    "    print('關閉程式')\n",
    "finally:\n",
    "    GPIO.cleanup()"
   ]
  },
  {
   "cell_type": "code",
   "execution_count": 55,
   "metadata": {},
   "outputs": [
    {
     "name": "stdout",
     "output_type": "stream",
     "text": [
      "3.2999999980615877\n"
     ]
    },
    {
     "data": {
      "image/png": "[encoded data removed]",
      "text/plain": [
       "<Figure size 432x288 with 1 Axes>"
      ]
     },
     "metadata": {
      "needs_background": "light"
     },
     "output_type": "display_data"
    }
   ],
   "source": [
    "%matplotlib inline\n",
    "import numpy as np\n",
    "import math\n",
    "import matplotlib.pyplot as plt\n",
    "\n",
    "def charge(t,tao):\n",
    "    return np.float(3.3 * (1-math.exp(-t/tao)))\n",
    "\n",
    "R=1.0*math.pow(10,3)\n",
    "C = 47 * pow(10,-6)\n",
    "\n",
    "Tao = R * C\n",
    "t = np.arange(0, 1.0, 0.001, dtype=float);\n",
    "y = np.array([charge(x,Tao) for x in t])\n",
    "plt.plot(t,y)\n",
    "print(max(y))"
   ]
  },
  {
   "cell_type": "code",
   "execution_count": null,
   "metadata": {},
   "outputs": [],
   "source": []
  }
 ],
 "metadata": {
  "kernelspec": {
   "display_name": "Python 3",
   "language": "python",
   "name": "python3"
  },
  "language_info": {
   "codemirror_mode": {
    "name": "ipython",
    "version": 3
   },
   "file_extension": ".py",
   "mimetype": "text/x-python",
   "name": "python",
   "nbconvert_exporter": "python",
   "pygments_lexer": "ipython3",
   "version": "3.5.3"
  }
 },
 "nbformat": 4,
 "nbformat_minor": 2
}
